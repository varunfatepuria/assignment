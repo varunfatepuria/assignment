{
 "cells": [
  {
   "cell_type": "markdown",
   "id": "f80371de-dea3-482b-ba25-8d5ca70e4764",
   "metadata": {},
   "source": [
    "# Data Science Tools and Ecosystem\n"
   ]
  },
  {
   "cell_type": "markdown",
   "id": "4be4531f-e2c6-4ee8-97a1-831653a74c6f",
   "metadata": {},
   "source": [
    "In this notebook, Data Science Tools and Ecosystem are summarized."
   ]
  },
  {
   "cell_type": "markdown",
   "id": "1bca26f4-a14a-47cc-b54d-95eb5cedc025",
   "metadata": {},
   "source": [
    "**Objectives:**\n",
    "- languages used in datascience:- sql,R,python\n",
    "- environment used in datascience:-Jupyter Notebook,Ray,Spyder\n",
    "- Data visualization tool-tableau\n",
    "- data management tool-MongoDB MySQL"
   ]
  },
  {
   "cell_type": "markdown",
   "id": "25daa9d2-f10c-457d-ba93-de51647214af",
   "metadata": {},
   "source": [
    "Some of the popular languages that Data Scientists use are:\n",
    "1. Python\n",
    "2. R\n",
    "3. SQL\n",
    "4. C++\n",
    "5. Java"
   ]
  },
  {
   "cell_type": "markdown",
   "id": "74a28353-d747-4f69-bbdb-59aa27cfcfbd",
   "metadata": {},
   "source": [
    "Some of the commonly used libraries used by Data Scientists include:\n",
    "1. Pandas\n",
    "2. Numpy\n",
    "3. Matplotlib\n",
    "4. seaborn\n",
    "5. Keras\n",
    "6. Scikit-learn\n",
    "7. pytorch"
   ]
  },
  {
   "cell_type": "markdown",
   "id": "a49742f9-4184-4ab2-a494-8a681823a5b1",
   "metadata": {},
   "source": [
    "|Data Science Tools|\n",
    "|:------------------:|\n",
    "| Jupyter Notebook |\n",
    "|------------------|\n",
    "| Rstudio     |\n",
    "|------------------|\n",
    "| Spyder   |"
   ]
  },
  {
   "cell_type": "markdown",
   "id": "b416b1d3-8a06-434c-8433-3830ff34c9c0",
   "metadata": {},
   "source": [
    "### Below are a few examples of evaluating arithmetic expressions in Python"
   ]
  },
  {
   "cell_type": "code",
   "execution_count": 3,
   "id": "0a7e5e9b-56e9-491c-8e93-77205c1697dd",
   "metadata": {
    "tags": []
   },
   "outputs": [
    {
     "data": {
      "text/plain": [
       "17"
      ]
     },
     "execution_count": 3,
     "metadata": {},
     "output_type": "execute_result"
    }
   ],
   "source": [
    "# This a simple arithmetic expression to mutiply then add integers\n",
    "(3*4)+5"
   ]
  },
  {
   "cell_type": "code",
   "execution_count": 4,
   "id": "bdf71685-71af-46df-8e13-81bf2c265189",
   "metadata": {
    "tags": []
   },
   "outputs": [
    {
     "name": "stdout",
     "output_type": "stream",
     "text": [
      "3.3333333333333335\n"
     ]
    }
   ],
   "source": [
    "# This will convert 200 minutes to hours by diving by 60\n",
    "min = 200\n",
    "hour = min/60\n",
    "print(hour)"
   ]
  },
  {
   "cell_type": "markdown",
   "id": "5496cd80-0d3e-4b77-8a30-55bceffdd9e6",
   "metadata": {},
   "source": [
    "## AUTHOR\n",
    "Varun Fatepuria"
   ]
  },
  {
   "cell_type": "code",
   "execution_count": null,
   "id": "33a63478-211c-4ee0-b6a7-743967c44398",
   "metadata": {},
   "outputs": [],
   "source": []
  }
 ],
 "metadata": {
  "kernelspec": {
   "display_name": "Python",
   "language": "python",
   "name": "conda-env-python-py"
  },
  "language_info": {
   "codemirror_mode": {
    "name": "ipython",
    "version": 3
   },
   "file_extension": ".py",
   "mimetype": "text/x-python",
   "name": "python",
   "nbconvert_exporter": "python",
   "pygments_lexer": "ipython3",
   "version": "3.7.12"
  }
 },
 "nbformat": 4,
 "nbformat_minor": 5
}
